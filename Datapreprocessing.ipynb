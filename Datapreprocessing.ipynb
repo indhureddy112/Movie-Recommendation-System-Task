{
  "cells": [
    {
      "cell_type": "code",
      "execution_count": null,
      "metadata": {
        "id": "XjoV5W2gC8vi"
      },
      "outputs": [],
      "source": []
    },
    {
      "cell_type": "markdown",
      "metadata": {
        "id": "eJt7pwzUDd7I"
      },
      "source": [
        "IMPORTING THE LIBRARIES"
      ]
    },
    {
      "cell_type": "code",
      "execution_count": 2,
      "metadata": {
        "id": "8FwDIzzuDpPL"
      },
      "outputs": [],
      "source": [
        "import pandas as pd\n",
        "import ast\n",
        "from sklearn.feature_extraction.text import CountVectorizer\n",
        "from sklearn.metrics.pairwise import cosine_similarity\n",
        "import pickle"
      ]
    },
    {
      "cell_type": "markdown",
      "metadata": {
        "id": "GBT1rx9MNQh9"
      },
      "source": [
        "LOAD THE MERGED DATASET"
      ]
    },
    {
      "cell_type": "code",
      "execution_count": 3,
      "metadata": {
        "id": "t8nKtNivDAe9"
      },
      "outputs": [],
      "source": [
        "df = pd.read_csv(\"merged_movies.csv\")"
      ]
    },
    {
      "cell_type": "code",
      "execution_count": null,
      "metadata": {
        "id": "fDa8HC3sNC12"
      },
      "outputs": [],
      "source": [
        "DATA PREPROCESSING"
      ]
    },
    {
      "cell_type": "code",
      "execution_count": 4,
      "metadata": {
        "colab": {
          "base_uri": "https://localhost:8080/"
        },
        "id": "jxQjaVScMaku",
        "outputId": "7d83af30-5dd4-481d-e935-6fa7d6ee2e99"
      },
      "outputs": [
        {
          "name": "stdout",
          "output_type": "stream",
          "text": [
            "✅ Preprocessing complete! Saved as preprocessed_movies.csv\n"
          ]
        },
        {
          "name": "stderr",
          "output_type": "stream",
          "text": [
            "/tmp/ipython-input-240786810.py:68: SettingWithCopyWarning: \n",
            "A value is trying to be set on a copy of a slice from a DataFrame.\n",
            "Try using .loc[row_indexer,col_indexer] = value instead\n",
            "\n",
            "See the caveats in the documentation: https://pandas.pydata.org/pandas-docs/stable/user_guide/indexing.html#returning-a-view-versus-a-copy\n",
            "  new_df['tags'] = new_df['tags'].apply(lambda x: \" \".join(x))\n",
            "/tmp/ipython-input-240786810.py:69: SettingWithCopyWarning: \n",
            "A value is trying to be set on a copy of a slice from a DataFrame\n",
            "\n",
            "See the caveats in the documentation: https://pandas.pydata.org/pandas-docs/stable/user_guide/indexing.html#returning-a-view-versus-a-copy\n",
            "  new_df.rename(columns={'title_x': 'title'}, inplace=True)\n"
          ]
        }
      ],
      "source": [
        "df = df[['movie_id','title_x','overview','genres','keywords','cast','crew']]\n",
        "\n",
        "# --- Step 2: Handle missing values ---\n",
        "df.dropna(inplace=True)\n",
        "\n",
        "# --- Step 3: Convert JSON-like strings into lists ---\n",
        "def convert(obj):\n",
        "    L = []\n",
        "    try:\n",
        "        for i in ast.literal_eval(obj):\n",
        "            L.append(i['name'])\n",
        "    except:\n",
        "        pass\n",
        "    return L\n",
        "\n",
        "df['genres'] = df['genres'].apply(convert)\n",
        "df['keywords'] = df['keywords'].apply(convert)\n",
        "\n",
        "# --- Step 4: Extract top 3 cast members ---\n",
        "def convert_cast(obj):\n",
        "    L = []\n",
        "    try:\n",
        "        count = 0\n",
        "        for i in ast.literal_eval(obj):\n",
        "            if count < 3:  # take top 3 actors\n",
        "                L.append(i['name'])\n",
        "                count += 1\n",
        "            else:\n",
        "                break\n",
        "    except:\n",
        "        pass\n",
        "    return L\n",
        "\n",
        "df['cast'] = df['cast'].apply(convert_cast)\n",
        "\n",
        "# --- Step 5: Extract director from crew ---\n",
        "def fetch_director(obj):\n",
        "    L = []\n",
        "    try:\n",
        "        for i in ast.literal_eval(obj):\n",
        "            if i['job'] == 'Director':\n",
        "                L.append(i['name'])\n",
        "                break\n",
        "    except:\n",
        "        pass\n",
        "    return L\n",
        "\n",
        "df['crew'] = df['crew'].apply(fetch_director)\n",
        "\n",
        "# --- Step 6: Clean overview text ---\n",
        "df['overview'] = df['overview'].apply(lambda x: x.split())\n",
        "\n",
        "# --- Step 7: Normalize text (remove spaces + lowercase) ---\n",
        "def clean_text(x):\n",
        "    return [i.replace(\" \", \"\").lower() for i in x]\n",
        "\n",
        "df['genres'] = df['genres'].apply(clean_text)\n",
        "df['keywords'] = df['keywords'].apply(clean_text)\n",
        "df['cast'] = df['cast'].apply(clean_text)\n",
        "df['crew'] = df['crew'].apply(clean_text)\n",
        "df['overview'] = df['overview'].apply(lambda x: [i.lower() for i in x])\n",
        "\n",
        "# --- Step 8: Create tags column ---\n",
        "df['tags'] = df['overview'] + df['genres'] + df['keywords'] + df['cast'] + df['crew']\n",
        "\n",
        "# --- Step 9: Final dataset ---\n",
        "new_df = df[['movie_id','title_x','tags']]\n",
        "new_df['tags'] = new_df['tags'].apply(lambda x: \" \".join(x))\n",
        "new_df.rename(columns={'title_x': 'title'}, inplace=True)\n",
        "\n",
        "# --- Step 10: Save preprocessed dataset ---\n",
        "new_df.to_csv(\"preprocessed_movies.csv\", index=False)\n",
        "print(\"✅ Preprocessing complete! Saved as preprocessed_movies.csv\")"
      ]
    },
    {
      "cell_type": "markdown",
      "metadata": {
        "id": "aoJIh3nvNH3r"
      },
      "source": [
        "LOAD THE PREPROCESSED DATASET"
      ]
    },
    {
      "cell_type": "code",
      "execution_count": 5,
      "metadata": {
        "id": "Pzzk1bVMMs3g"
      },
      "outputs": [],
      "source": [
        "df = pd.read_csv(\"preprocessed_movies.csv\")"
      ]
    },
    {
      "cell_type": "code",
      "execution_count": 6,
      "metadata": {
        "colab": {
          "base_uri": "https://localhost:8080/"
        },
        "id": "b-BJGN31M5ML",
        "outputId": "22e43617-9630-4008-ea45-5856cf990800"
      },
      "outputs": [
        {
          "name": "stdout",
          "output_type": "stream",
          "text": [
            "\n",
            "🎬 Top 10 recommendations for 'Avatar':\n",
            "1. Titan A.E.\n",
            "2. Ender's Game\n",
            "3. Battle: Los Angeles\n",
            "4. Independence Day\n",
            "5. The Lovers\n",
            "6. Edge of Tomorrow\n",
            "7. Jupiter Ascending\n",
            "8. The Host\n",
            "9. The Fifth Element\n",
            "10. Star Trek Into Darkness\n",
            "✅ Recommendation model saved!\n"
          ]
        }
      ],
      "source": [
        "def convert_to_string(x):\n",
        "    if isinstance(x, str):\n",
        "        try:\n",
        "            x_eval = ast.literal_eval(x)\n",
        "            if isinstance(x_eval, list):\n",
        "                return \" \".join(x_eval)\n",
        "            else:\n",
        "                return x\n",
        "        except:\n",
        "            return x\n",
        "    else:\n",
        "        if isinstance(x, list):\n",
        "            return \" \".join(x)\n",
        "        else:\n",
        "            return str(x)\n",
        "\n",
        "df['tags'] = df['tags'].apply(convert_to_string)\n",
        "\n",
        "# --- Step 11: Vectorize tags using CountVectorizer ---\n",
        "cv = CountVectorizer(max_features=5000, stop_words='english')\n",
        "vectors = cv.fit_transform(df['tags']).toarray()\n",
        "\n",
        "# --- Step 12: Compute cosine similarity matrix ---\n",
        "similarity = cosine_similarity(vectors)\n",
        "\n",
        "# --- Step 13: Recommendation function ---\n",
        "def recommend(movie):\n",
        "    if movie not in df['title'].values:\n",
        "        return f\" Movie '{movie}' not found.\"\n",
        "\n",
        "    index = df[df['title'] == movie].index[0]\n",
        "    distances = list(enumerate(similarity[index]))\n",
        "    movies = sorted(distances, key=lambda x: x[1], reverse=True)[1:11]\n",
        "\n",
        "    recommended = [df.iloc[i[0]].title for i in movies]\n",
        "    print(f\"\\n🎬 Top 10 recommendations for '{movie}':\")\n",
        "    for i, title in enumerate(recommended, 1):\n",
        "        print(f\"{i}. {title}\")\n",
        "    return recommended\n",
        "\n",
        "# --- Step 14: Example usage ---\n",
        "recommend(\"Avatar\")  # Try with any movie in your dataset\n",
        "\n",
        "# --- Step 15: Save model and similarity matrix ---\n",
        "pickle.dump(df, open('movies.pkl', 'wb'))\n",
        "pickle.dump(similarity, open('similarity.pkl', 'wb'))\n",
        "\n",
        "print(\"✅ Recommendation model saved!\")"
      ]
    }
  ],
  "metadata": {
    "colab": {
      "provenance": []
    },
    "kernelspec": {
      "display_name": "Python 3",
      "name": "python3"
    },
    "language_info": {
      "name": "python"
    }
  },
  "nbformat": 4,
  "nbformat_minor": 0
}
